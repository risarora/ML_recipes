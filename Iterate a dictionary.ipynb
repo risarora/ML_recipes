{
 "cells": [
  {
   "cell_type": "code",
   "execution_count": 7,
   "metadata": {
    "collapsed": true
   },
   "outputs": [],
   "source": [
    " stocks = {\n",
    "        'APL': 876.11,\n",
    "        'GOO': 553.13,\n",
    "        'MSFT': 125.42\n",
    "    }"
   ]
  },
  {
   "cell_type": "code",
   "execution_count": 10,
   "metadata": {},
   "outputs": [
    {
     "name": "stdout",
     "output_type": "stream",
     "text": [
      "APL\n",
      "GOO\n",
      "MSFT\n"
     ]
    }
   ],
   "source": [
    "# Print out all the keys\n",
    "for c in stocks:\n",
    "    print(c)    "
   ]
  },
  {
   "cell_type": "code",
   "execution_count": 11,
   "metadata": {},
   "outputs": [
    {
     "name": "stdout",
     "output_type": "stream",
     "text": [
      "Code : APL, Value : 876.11\n",
      "Code : GOO, Value : 553.13\n",
      "Code : MSFT, Value : 125.42\n"
     ]
    }
   ],
   "source": [
    "# Print key n values\n",
    "for k, v in stocks.items():\n",
    "    print(\"Code : {0}, Value : {1}\".format(k, v))\n"
   ]
  }
 ],
 "metadata": {
  "kernelspec": {
   "display_name": "Python 3",
   "language": "python",
   "name": "python3"
  },
  "language_info": {
   "codemirror_mode": {
    "name": "ipython",
    "version": 3
   },
   "file_extension": ".py",
   "mimetype": "text/x-python",
   "name": "python",
   "nbconvert_exporter": "python",
   "pygments_lexer": "ipython3",
   "version": "3.6.1"
  }
 },
 "nbformat": 4,
 "nbformat_minor": 2
}
