{
 "cells": [
  {
   "cell_type": "code",
   "execution_count": 1,
   "metadata": {},
   "outputs": [
    {
     "name": "stdout",
     "output_type": "stream",
     "text": [
      "Collecting jupyter_dashboards\n",
      "  Downloading https://files.pythonhosted.org/packages/6a/97/9eeded5bc92b207712c5017076dfa5eddf11c6b45b596e6ec3d50318609b/jupyter_dashboards-0.7.0.tar.gz (2.9MB)\n",
      "Requirement already satisfied: notebook>=4.0 in c:\\programdata\\anaconda3x\\lib\\site-packages (from jupyter_dashboards)\n",
      "Building wheels for collected packages: jupyter-dashboards\n",
      "  Running setup.py bdist_wheel for jupyter-dashboards: started\n",
      "  Running setup.py bdist_wheel for jupyter-dashboards: still running...\n",
      "  Running setup.py bdist_wheel for jupyter-dashboards: still running...\n",
      "  Running setup.py bdist_wheel for jupyter-dashboards: finished with status 'done'\n",
      "  Stored in directory: C:\\Users\\rarora17\\AppData\\Local\\pip\\Cache\\wheels\\94\\dd\\97\\e1ccd2363110360426bcb18876cb0c158634afe8d494e27a5d\n",
      "Successfully built jupyter-dashboards\n",
      "Installing collected packages: jupyter-dashboards\n",
      "Successfully installed jupyter-dashboards-0.7.0\n"
     ]
    },
    {
     "name": "stderr",
     "output_type": "stream",
     "text": [
      "  Retrying (Retry(total=4, connect=None, read=None, redirect=None)) after connection broken by 'ConnectTimeoutError(<pip._vendor.requests.packages.urllib3.connection.VerifiedHTTPSConnection object at 0x00000000049005C0>, 'Connection to files.pythonhosted.org timed out. (connect timeout=15)')': /packages/6a/97/9eeded5bc92b207712c5017076dfa5eddf11c6b45b596e6ec3d50318609b/jupyter_dashboards-0.7.0.tar.gz\n",
      "  Retrying (Retry(total=3, connect=None, read=None, redirect=None)) after connection broken by 'ConnectTimeoutError(<pip._vendor.requests.packages.urllib3.connection.VerifiedHTTPSConnection object at 0x0000000004900CC0>, 'Connection to files.pythonhosted.org timed out. (connect timeout=15)')': /packages/6a/97/9eeded5bc92b207712c5017076dfa5eddf11c6b45b596e6ec3d50318609b/jupyter_dashboards-0.7.0.tar.gz\n",
      "You are using pip version 9.0.1, however version 18.0 is available.\n",
      "You should consider upgrading via the 'python -m pip install --upgrade pip' command.\n"
     ]
    }
   ],
   "source": [
    "!pip install jupyter_dashboards"
   ]
  },
  {
   "cell_type": "code",
   "execution_count": 2,
   "metadata": {},
   "outputs": [
    {
     "ename": "SyntaxError",
     "evalue": "invalid syntax (<ipython-input-2-007a1b445984>, line 1)",
     "output_type": "error",
     "traceback": [
      "\u001b[1;36m  File \u001b[1;32m\"<ipython-input-2-007a1b445984>\"\u001b[1;36m, line \u001b[1;32m1\u001b[0m\n\u001b[1;33m    jupyter dashboards quick-setup --sys-prefix\u001b[0m\n\u001b[1;37m                     ^\u001b[0m\n\u001b[1;31mSyntaxError\u001b[0m\u001b[1;31m:\u001b[0m invalid syntax\n"
     ]
    }
   ],
   "source": [
    "jupyter dashboards quick-setup --sys-prefix"
   ]
  }
 ],
 "metadata": {
  "kernelspec": {
   "display_name": "Python 3",
   "language": "python",
   "name": "python3"
  },
  "language_info": {
   "codemirror_mode": {
    "name": "ipython",
    "version": 3
   },
   "file_extension": ".py",
   "mimetype": "text/x-python",
   "name": "python",
   "nbconvert_exporter": "python",
   "pygments_lexer": "ipython3",
   "version": "3.6.1"
  }
 },
 "nbformat": 4,
 "nbformat_minor": 2
}
