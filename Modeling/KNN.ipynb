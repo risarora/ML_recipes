{
 "cells": [
  {
   "cell_type": "code",
   "execution_count": 32,
   "metadata": {},
   "outputs": [],
   "source": [
    "from sklearn.model_selection import  train_test_split\n",
    "from sklearn.pipeline import Pipeline\n",
    "from sklearn.model_selection import train_test_split, StratifiedKFold\n",
    "from sklearn.neighbors import KNeighborsClassifier\n",
    "from sklearn.preprocessing import StandardScaler\n",
    "from sklearn.metrics import accuracy_score\n"
   ]
  },
  {
   "cell_type": "code",
   "execution_count": 6,
   "metadata": {},
   "outputs": [],
   "source": [
    "import numpy as np\n",
    "\n",
    "import numpy.random\n",
    "import matplotlib.pyplot as plt\n",
    "%matplotlib inline"
   ]
  },
  {
   "cell_type": "code",
   "execution_count": 7,
   "metadata": {
    "collapsed": true
   },
   "outputs": [],
   "source": [
    "def form_noisy_data(n_obj=1000, n_feat=100, random_seed=17):\n",
    "    np.seed = random_seed\n",
    "    y = np.random.choice([-1, 1], size=n_obj)\n",
    "\n",
    "    # first feature is proportional to target\n",
    "    x1 = 0.3 * y\n",
    "\n",
    "    # other features are noise\n",
    "\n",
    "    x_other = np.random.random(size=[n_obj, n_feat - 1])\n",
    "\n",
    "    return np.hstack([x1.reshape([n_obj, 1]), x_other]), y\n",
    "\n",
    "X, y = form_noisy_data()"
   ]
  },
  {
   "cell_type": "code",
   "execution_count": 33,
   "metadata": {},
   "outputs": [
    {
     "data": {
      "image/png": "[encoded data removed]",
      "text/plain": [
       "<matplotlib.figure.Figure at 0xaa2b7b8>"
      ]
     },
     "metadata": {},
     "output_type": "display_data"
    }
   ],
   "source": [
    "X_train, X_holdout, y_train, y_holdout = train_test_split(X, y, test_size=0.3, random_state=17)\n",
    "\n",
    "from sklearn.model_selection import cross_val_score\n",
    "\n",
    "cv_scores, holdout_scores = [], []\n",
    "n_neighb = [1, 2, 3, 5] + list(range(50, 550, 50))\n",
    "\n",
    "for k in n_neighb:\n",
    "\n",
    "    knn_pipe = Pipeline([('scaler', StandardScaler()), \n",
    "                     ('knn', KNeighborsClassifier(n_neighbors=k))])\n",
    "    cv_scores.append(np.mean(cross_val_score(knn_pipe, X_train, y_train, cv=5)))\n",
    "    knn_pipe.fit(X_train, y_train)\n",
    "    holdout_scores.append(accuracy_score(y_holdout, knn_pipe.predict(X_holdout)))\n",
    "\n",
    "plt.plot(n_neighb, cv_scores, label='CV')\n",
    "plt.plot(n_neighb, holdout_scores, label='holdout')\n",
    "plt.title('Easy task. kNN fails')\n",
    "plt.legend();"
   ]
  }
 ],
 "metadata": {
  "kernelspec": {
   "display_name": "Python 3",
   "language": "python",
   "name": "python3"
  },
  "language_info": {
   "codemirror_mode": {
    "name": "ipython",
    "version": 3
   },
   "file_extension": ".py",
   "mimetype": "text/x-python",
   "name": "python",
   "nbconvert_exporter": "python",
   "pygments_lexer": "ipython3",
   "version": "3.6.1"
  }
 },
 "nbformat": 4,
 "nbformat_minor": 2
}
