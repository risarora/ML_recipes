{
 "cells": [
  {
   "cell_type": "code",
   "execution_count": 19,
   "metadata": {},
   "outputs": [
    {
     "name": "stdout",
     "output_type": "stream",
     "text": [
      "x : {'a': 1, 'b': 2}\n",
      "y : {'b': 10, 'c': 11}\n"
     ]
    }
   ],
   "source": [
    "x = {'a':1, 'b': 2}\n",
    "y = {'b':10, 'c': 11}\n",
    "print(\"x :\",x)\n",
    "print(\"y :\",y)\n"
   ]
  },
  {
   "cell_type": "markdown",
   "metadata": {},
   "source": [
    "##### Merge two dictionaries into a new dict without altering the original dictionary:"
   ]
  },
  {
   "cell_type": "code",
   "execution_count": 18,
   "metadata": {},
   "outputs": [
    {
     "name": "stdout",
     "output_type": "stream",
     "text": [
      "z : {'a': 1, 'b': 10, 'c': 11}\n"
     ]
    }
   ],
   "source": [
    "# Approach 1\n",
    "z={}\n",
    "z = dict(list(x.items()) + list(y.items()))\n",
    "print(\"z :\",z)\n"
   ]
  },
  {
   "cell_type": "code",
   "execution_count": 15,
   "metadata": {},
   "outputs": [
    {
     "name": "stdout",
     "output_type": "stream",
     "text": [
      "z : {'a': 1, 'b': 10, 'c': 11}\n"
     ]
    }
   ],
   "source": [
    "# Approach 2\n",
    "z={}\n",
    "z = {**x, **y}\n",
    "print(\"z :\",z)"
   ]
  },
  {
   "cell_type": "markdown",
   "metadata": {},
   "source": [
    "##### Merge two dictionaries into the original dictionary:"
   ]
  },
  {
   "cell_type": "code",
   "execution_count": 16,
   "metadata": {},
   "outputs": [
    {
     "name": "stdout",
     "output_type": "stream",
     "text": [
      "z : {'a': 1, 'b': 10, 'c': 11}\n",
      "x : {'a': 1, 'b': 10, 'c': 11}\n"
     ]
    }
   ],
   "source": [
    "x.update(y)\n",
    "print(\"x :\",x)\n"
   ]
  },
  {
   "cell_type": "code",
   "execution_count": null,
   "metadata": {
    "collapsed": true
   },
   "outputs": [],
   "source": []
  }
 ],
 "metadata": {
  "kernelspec": {
   "display_name": "Python 3",
   "language": "python",
   "name": "python3"
  },
  "language_info": {
   "codemirror_mode": {
    "name": "ipython",
    "version": 3
   },
   "file_extension": ".py",
   "mimetype": "text/x-python",
   "name": "python",
   "nbconvert_exporter": "python",
   "pygments_lexer": "ipython3",
   "version": "3.6.1"
  }
 },
 "nbformat": 4,
 "nbformat_minor": 2
}
