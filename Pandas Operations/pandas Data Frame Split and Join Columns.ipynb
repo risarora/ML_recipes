{
 "cells": [
  {
   "cell_type": "markdown",
   "metadata": {},
   "source": [
    "# Pandas Dataframe"
   ]
  },
  {
   "cell_type": "code",
   "execution_count": 1,
   "metadata": {
    "collapsed": true
   },
   "outputs": [],
   "source": [
    "from IPython.display import HTML"
   ]
  },
  {
   "cell_type": "code",
   "execution_count": 2,
   "metadata": {
    "collapsed": true
   },
   "outputs": [],
   "source": [
    "import pandas as pd\n",
    "import numpy as np\n",
    "\n",
    "\n",
    "sample_data = {'Name': ['Jason Miller', 'Molly Jacobson', 'Tina Milner', 'Jake', 'Amy Schumaker'], \n",
    "        'Age': [31, 25, 32, 29, 28], \n",
    "        'LanguagesKnown': [\"C_Java_C++\",\"Python_C_Java_Spring\",\"C_Spring_C++\",\n",
    "                           \"Jason_Java_Node.js\",\"Angular.js_Java_C++_Python\"], \n",
    "        'Salary': [125000, 94000, 57000, 62100, 70001]}\n"
   ]
  },
  {
   "cell_type": "code",
   "execution_count": 3,
   "metadata": {},
   "outputs": [
    {
     "data": {
      "text/html": [
       "<div>\n",
       "<style>\n",
       "    .dataframe thead tr:only-child th {\n",
       "        text-align: right;\n",
       "    }\n",
       "\n",
       "    .dataframe thead th {\n",
       "        text-align: left;\n",
       "    }\n",
       "\n",
       "    .dataframe tbody tr th {\n",
       "        vertical-align: top;\n",
       "    }\n",
       "</style>\n",
       "<table border=\"1\" class=\"dataframe\">\n",
       "  <thead>\n",
       "    <tr style=\"text-align: right;\">\n",
       "      <th></th>\n",
       "      <th>Name</th>\n",
       "      <th>Age</th>\n",
       "      <th>LanguagesKnown</th>\n",
       "      <th>Salary</th>\n",
       "    </tr>\n",
       "  </thead>\n",
       "  <tbody>\n",
       "    <tr>\n",
       "      <th>0</th>\n",
       "      <td>Jason Miller</td>\n",
       "      <td>31</td>\n",
       "      <td>C_Java_C++</td>\n",
       "      <td>125000</td>\n",
       "    </tr>\n",
       "    <tr>\n",
       "      <th>1</th>\n",
       "      <td>Molly Jacobson</td>\n",
       "      <td>25</td>\n",
       "      <td>Python_C_Java_Spring</td>\n",
       "      <td>94000</td>\n",
       "    </tr>\n",
       "    <tr>\n",
       "      <th>2</th>\n",
       "      <td>Tina Milner</td>\n",
       "      <td>32</td>\n",
       "      <td>C_Spring_C++</td>\n",
       "      <td>57000</td>\n",
       "    </tr>\n",
       "    <tr>\n",
       "      <th>3</th>\n",
       "      <td>Jake</td>\n",
       "      <td>29</td>\n",
       "      <td>Jason_Java_Node.js</td>\n",
       "      <td>62100</td>\n",
       "    </tr>\n",
       "    <tr>\n",
       "      <th>4</th>\n",
       "      <td>Amy Schumaker</td>\n",
       "      <td>28</td>\n",
       "      <td>Angular.js_Java_C++_Python</td>\n",
       "      <td>70001</td>\n",
       "    </tr>\n",
       "  </tbody>\n",
       "</table>\n",
       "</div>"
      ],
      "text/plain": [
       "             Name  Age              LanguagesKnown  Salary\n",
       "0    Jason Miller   31                  C_Java_C++  125000\n",
       "1  Molly Jacobson   25        Python_C_Java_Spring   94000\n",
       "2     Tina Milner   32                C_Spring_C++   57000\n",
       "3            Jake   29          Jason_Java_Node.js   62100\n",
       "4   Amy Schumaker   28  Angular.js_Java_C++_Python   70001"
      ]
     },
     "execution_count": 3,
     "metadata": {},
     "output_type": "execute_result"
    }
   ],
   "source": [
    "\n",
    "df = pd.DataFrame(sample_data, columns = ['Name', 'Age', 'LanguagesKnown', 'Salary'])\n",
    "df\n"
   ]
  },
  {
   "cell_type": "code",
   "execution_count": 10,
   "metadata": {
    "collapsed": true
   },
   "outputs": [],
   "source": [
    "result = pd.concat([df, df['LanguagesKnown'].str.split('_',expand=True)], axis=1, ignore_index=False )"
   ]
  },
  {
   "cell_type": "code",
   "execution_count": 11,
   "metadata": {},
   "outputs": [
    {
     "data": {
      "text/html": [
       "<div>\n",
       "<style>\n",
       "    .dataframe thead tr:only-child th {\n",
       "        text-align: right;\n",
       "    }\n",
       "\n",
       "    .dataframe thead th {\n",
       "        text-align: left;\n",
       "    }\n",
       "\n",
       "    .dataframe tbody tr th {\n",
       "        vertical-align: top;\n",
       "    }\n",
       "</style>\n",
       "<table border=\"1\" class=\"dataframe\">\n",
       "  <thead>\n",
       "    <tr style=\"text-align: right;\">\n",
       "      <th></th>\n",
       "      <th>Name</th>\n",
       "      <th>Age</th>\n",
       "      <th>LanguagesKnown</th>\n",
       "      <th>Salary</th>\n",
       "      <th>0</th>\n",
       "      <th>1</th>\n",
       "      <th>2</th>\n",
       "      <th>3</th>\n",
       "    </tr>\n",
       "  </thead>\n",
       "  <tbody>\n",
       "    <tr>\n",
       "      <th>0</th>\n",
       "      <td>Jason Miller</td>\n",
       "      <td>31</td>\n",
       "      <td>C_Java_C++</td>\n",
       "      <td>125000</td>\n",
       "      <td>C</td>\n",
       "      <td>Java</td>\n",
       "      <td>C++</td>\n",
       "      <td>None</td>\n",
       "    </tr>\n",
       "    <tr>\n",
       "      <th>1</th>\n",
       "      <td>Molly Jacobson</td>\n",
       "      <td>25</td>\n",
       "      <td>Python_C_Java_Spring</td>\n",
       "      <td>94000</td>\n",
       "      <td>Python</td>\n",
       "      <td>C</td>\n",
       "      <td>Java</td>\n",
       "      <td>Spring</td>\n",
       "    </tr>\n",
       "    <tr>\n",
       "      <th>2</th>\n",
       "      <td>Tina Milner</td>\n",
       "      <td>32</td>\n",
       "      <td>C_Spring_C++</td>\n",
       "      <td>57000</td>\n",
       "      <td>C</td>\n",
       "      <td>Spring</td>\n",
       "      <td>C++</td>\n",
       "      <td>None</td>\n",
       "    </tr>\n",
       "    <tr>\n",
       "      <th>3</th>\n",
       "      <td>Jake</td>\n",
       "      <td>29</td>\n",
       "      <td>Jason_Java_Node.js</td>\n",
       "      <td>62100</td>\n",
       "      <td>Jason</td>\n",
       "      <td>Java</td>\n",
       "      <td>Node.js</td>\n",
       "      <td>None</td>\n",
       "    </tr>\n",
       "    <tr>\n",
       "      <th>4</th>\n",
       "      <td>Amy Schumaker</td>\n",
       "      <td>28</td>\n",
       "      <td>Angular.js_Java_C++_Python</td>\n",
       "      <td>70001</td>\n",
       "      <td>Angular.js</td>\n",
       "      <td>Java</td>\n",
       "      <td>C++</td>\n",
       "      <td>Python</td>\n",
       "    </tr>\n",
       "  </tbody>\n",
       "</table>\n",
       "</div>"
      ],
      "text/plain": [
       "             Name  Age              LanguagesKnown  Salary           0  \\\n",
       "0    Jason Miller   31                  C_Java_C++  125000           C   \n",
       "1  Molly Jacobson   25        Python_C_Java_Spring   94000      Python   \n",
       "2     Tina Milner   32                C_Spring_C++   57000           C   \n",
       "3            Jake   29          Jason_Java_Node.js   62100       Jason   \n",
       "4   Amy Schumaker   28  Angular.js_Java_C++_Python   70001  Angular.js   \n",
       "\n",
       "        1        2       3  \n",
       "0    Java      C++    None  \n",
       "1       C     Java  Spring  \n",
       "2  Spring      C++    None  \n",
       "3    Java  Node.js    None  \n",
       "4    Java      C++  Python  "
      ]
     },
     "execution_count": 11,
     "metadata": {},
     "output_type": "execute_result"
    }
   ],
   "source": [
    "result"
   ]
  },
  {
   "cell_type": "code",
   "execution_count": 13,
   "metadata": {},
   "outputs": [
    {
     "data": {
      "text/plain": [
       "Index(['Name', 'Age', 'LanguagesKnown', 'Salary', 0, 1, 2, 3], dtype='object')"
      ]
     },
     "execution_count": 13,
     "metadata": {},
     "output_type": "execute_result"
    }
   ],
   "source": [
    "result.columns"
   ]
  },
  {
   "cell_type": "code",
   "execution_count": 14,
   "metadata": {},
   "outputs": [
    {
     "data": {
      "text/plain": [
       "0             C\n",
       "1        Python\n",
       "2             C\n",
       "3         Jason\n",
       "4    Angular.js\n",
       "Name: 0, dtype: object"
      ]
     },
     "execution_count": 14,
     "metadata": {},
     "output_type": "execute_result"
    }
   ],
   "source": [
    "result[0]"
   ]
  },
  {
   "cell_type": "code",
   "execution_count": 12,
   "metadata": {},
   "outputs": [
    {
     "name": "stdout",
     "output_type": "stream",
     "text": [
      "   Angular.js  C  Jason  Python\n",
      "0           0  1      0       0\n",
      "1           0  0      0       1\n",
      "2           0  1      0       0\n",
      "3           0  0      1       0\n",
      "4           1  0      0       0\n"
     ]
    }
   ],
   "source": [
    "print( pd.get_dummies(result[0]) )"
   ]
  },
  {
   "cell_type": "code",
   "execution_count": 4,
   "metadata": {
    "collapsed": true
   },
   "outputs": [],
   "source": [
    "dataFrame = df.LanguagesKnown.astype(str).str.get_dummies('_')"
   ]
  },
  {
   "cell_type": "code",
   "execution_count": 5,
   "metadata": {},
   "outputs": [
    {
     "data": {
      "text/html": [
       "<div>\n",
       "<style>\n",
       "    .dataframe thead tr:only-child th {\n",
       "        text-align: right;\n",
       "    }\n",
       "\n",
       "    .dataframe thead th {\n",
       "        text-align: left;\n",
       "    }\n",
       "\n",
       "    .dataframe tbody tr th {\n",
       "        vertical-align: top;\n",
       "    }\n",
       "</style>\n",
       "<table border=\"1\" class=\"dataframe\">\n",
       "  <thead>\n",
       "    <tr style=\"text-align: right;\">\n",
       "      <th></th>\n",
       "      <th>Angular.js</th>\n",
       "      <th>C</th>\n",
       "      <th>C++</th>\n",
       "      <th>Jason</th>\n",
       "      <th>Java</th>\n",
       "      <th>Node.js</th>\n",
       "      <th>Python</th>\n",
       "      <th>Spring</th>\n",
       "    </tr>\n",
       "  </thead>\n",
       "  <tbody>\n",
       "    <tr>\n",
       "      <th>0</th>\n",
       "      <td>0</td>\n",
       "      <td>1</td>\n",
       "      <td>1</td>\n",
       "      <td>0</td>\n",
       "      <td>1</td>\n",
       "      <td>0</td>\n",
       "      <td>0</td>\n",
       "      <td>0</td>\n",
       "    </tr>\n",
       "    <tr>\n",
       "      <th>1</th>\n",
       "      <td>0</td>\n",
       "      <td>1</td>\n",
       "      <td>0</td>\n",
       "      <td>0</td>\n",
       "      <td>1</td>\n",
       "      <td>0</td>\n",
       "      <td>1</td>\n",
       "      <td>1</td>\n",
       "    </tr>\n",
       "    <tr>\n",
       "      <th>2</th>\n",
       "      <td>0</td>\n",
       "      <td>1</td>\n",
       "      <td>1</td>\n",
       "      <td>0</td>\n",
       "      <td>0</td>\n",
       "      <td>0</td>\n",
       "      <td>0</td>\n",
       "      <td>1</td>\n",
       "    </tr>\n",
       "    <tr>\n",
       "      <th>3</th>\n",
       "      <td>0</td>\n",
       "      <td>0</td>\n",
       "      <td>0</td>\n",
       "      <td>1</td>\n",
       "      <td>1</td>\n",
       "      <td>1</td>\n",
       "      <td>0</td>\n",
       "      <td>0</td>\n",
       "    </tr>\n",
       "    <tr>\n",
       "      <th>4</th>\n",
       "      <td>1</td>\n",
       "      <td>0</td>\n",
       "      <td>1</td>\n",
       "      <td>0</td>\n",
       "      <td>1</td>\n",
       "      <td>0</td>\n",
       "      <td>1</td>\n",
       "      <td>0</td>\n",
       "    </tr>\n",
       "  </tbody>\n",
       "</table>\n",
       "</div>"
      ],
      "text/plain": [
       "   Angular.js  C  C++  Jason  Java  Node.js  Python  Spring\n",
       "0           0  1    1      0     1        0       0       0\n",
       "1           0  1    0      0     1        0       1       1\n",
       "2           0  1    1      0     0        0       0       1\n",
       "3           0  0    0      1     1        1       0       0\n",
       "4           1  0    1      0     1        0       1       0"
      ]
     },
     "execution_count": 5,
     "metadata": {},
     "output_type": "execute_result"
    }
   ],
   "source": [
    "dataFrame"
   ]
  },
  {
   "cell_type": "code",
   "execution_count": 6,
   "metadata": {
    "collapsed": true
   },
   "outputs": [],
   "source": [
    "result = pd.concat([df, dataFrame], axis=1, ignore_index=False)"
   ]
  },
  {
   "cell_type": "code",
   "execution_count": 7,
   "metadata": {},
   "outputs": [
    {
     "data": {
      "text/html": [
       "<div>\n",
       "<style>\n",
       "    .dataframe thead tr:only-child th {\n",
       "        text-align: right;\n",
       "    }\n",
       "\n",
       "    .dataframe thead th {\n",
       "        text-align: left;\n",
       "    }\n",
       "\n",
       "    .dataframe tbody tr th {\n",
       "        vertical-align: top;\n",
       "    }\n",
       "</style>\n",
       "<table border=\"1\" class=\"dataframe\">\n",
       "  <thead>\n",
       "    <tr style=\"text-align: right;\">\n",
       "      <th></th>\n",
       "      <th>Name</th>\n",
       "      <th>Age</th>\n",
       "      <th>LanguagesKnown</th>\n",
       "      <th>Salary</th>\n",
       "      <th>Angular.js</th>\n",
       "      <th>C</th>\n",
       "      <th>C++</th>\n",
       "      <th>Jason</th>\n",
       "      <th>Java</th>\n",
       "      <th>Node.js</th>\n",
       "      <th>Python</th>\n",
       "      <th>Spring</th>\n",
       "    </tr>\n",
       "  </thead>\n",
       "  <tbody>\n",
       "    <tr>\n",
       "      <th>0</th>\n",
       "      <td>Jason Miller</td>\n",
       "      <td>31</td>\n",
       "      <td>C_Java_C++</td>\n",
       "      <td>125000</td>\n",
       "      <td>0</td>\n",
       "      <td>1</td>\n",
       "      <td>1</td>\n",
       "      <td>0</td>\n",
       "      <td>1</td>\n",
       "      <td>0</td>\n",
       "      <td>0</td>\n",
       "      <td>0</td>\n",
       "    </tr>\n",
       "    <tr>\n",
       "      <th>1</th>\n",
       "      <td>Molly Jacobson</td>\n",
       "      <td>25</td>\n",
       "      <td>Python_C_Java_Spring</td>\n",
       "      <td>94000</td>\n",
       "      <td>0</td>\n",
       "      <td>1</td>\n",
       "      <td>0</td>\n",
       "      <td>0</td>\n",
       "      <td>1</td>\n",
       "      <td>0</td>\n",
       "      <td>1</td>\n",
       "      <td>1</td>\n",
       "    </tr>\n",
       "    <tr>\n",
       "      <th>2</th>\n",
       "      <td>Tina Milner</td>\n",
       "      <td>32</td>\n",
       "      <td>C_Spring_C++</td>\n",
       "      <td>57000</td>\n",
       "      <td>0</td>\n",
       "      <td>1</td>\n",
       "      <td>1</td>\n",
       "      <td>0</td>\n",
       "      <td>0</td>\n",
       "      <td>0</td>\n",
       "      <td>0</td>\n",
       "      <td>1</td>\n",
       "    </tr>\n",
       "    <tr>\n",
       "      <th>3</th>\n",
       "      <td>Jake</td>\n",
       "      <td>29</td>\n",
       "      <td>Jason_Java_Node.js</td>\n",
       "      <td>62100</td>\n",
       "      <td>0</td>\n",
       "      <td>0</td>\n",
       "      <td>0</td>\n",
       "      <td>1</td>\n",
       "      <td>1</td>\n",
       "      <td>1</td>\n",
       "      <td>0</td>\n",
       "      <td>0</td>\n",
       "    </tr>\n",
       "    <tr>\n",
       "      <th>4</th>\n",
       "      <td>Amy Schumaker</td>\n",
       "      <td>28</td>\n",
       "      <td>Angular.js_Java_C++_Python</td>\n",
       "      <td>70001</td>\n",
       "      <td>1</td>\n",
       "      <td>0</td>\n",
       "      <td>1</td>\n",
       "      <td>0</td>\n",
       "      <td>1</td>\n",
       "      <td>0</td>\n",
       "      <td>1</td>\n",
       "      <td>0</td>\n",
       "    </tr>\n",
       "  </tbody>\n",
       "</table>\n",
       "</div>"
      ],
      "text/plain": [
       "             Name  Age              LanguagesKnown  Salary  Angular.js  C  \\\n",
       "0    Jason Miller   31                  C_Java_C++  125000           0  1   \n",
       "1  Molly Jacobson   25        Python_C_Java_Spring   94000           0  1   \n",
       "2     Tina Milner   32                C_Spring_C++   57000           0  1   \n",
       "3            Jake   29          Jason_Java_Node.js   62100           0  0   \n",
       "4   Amy Schumaker   28  Angular.js_Java_C++_Python   70001           1  0   \n",
       "\n",
       "   C++  Jason  Java  Node.js  Python  Spring  \n",
       "0    1      0     1        0       0       0  \n",
       "1    0      0     1        0       1       1  \n",
       "2    1      0     0        0       0       1  \n",
       "3    0      1     1        1       0       0  \n",
       "4    1      0     1        0       1       0  "
      ]
     },
     "execution_count": 7,
     "metadata": {},
     "output_type": "execute_result"
    }
   ],
   "source": [
    "result"
   ]
  },
  {
   "cell_type": "code",
   "execution_count": 8,
   "metadata": {
    "collapsed": true
   },
   "outputs": [],
   "source": [
    "del result['LanguagesKnown']"
   ]
  },
  {
   "cell_type": "code",
   "execution_count": 9,
   "metadata": {},
   "outputs": [
    {
     "data": {
      "text/html": [
       "<div>\n",
       "<style>\n",
       "    .dataframe thead tr:only-child th {\n",
       "        text-align: right;\n",
       "    }\n",
       "\n",
       "    .dataframe thead th {\n",
       "        text-align: left;\n",
       "    }\n",
       "\n",
       "    .dataframe tbody tr th {\n",
       "        vertical-align: top;\n",
       "    }\n",
       "</style>\n",
       "<table border=\"1\" class=\"dataframe\">\n",
       "  <thead>\n",
       "    <tr style=\"text-align: right;\">\n",
       "      <th></th>\n",
       "      <th>Name</th>\n",
       "      <th>Age</th>\n",
       "      <th>Salary</th>\n",
       "      <th>Angular.js</th>\n",
       "      <th>C</th>\n",
       "      <th>C++</th>\n",
       "      <th>Jason</th>\n",
       "      <th>Java</th>\n",
       "      <th>Node.js</th>\n",
       "      <th>Python</th>\n",
       "      <th>Spring</th>\n",
       "    </tr>\n",
       "  </thead>\n",
       "  <tbody>\n",
       "    <tr>\n",
       "      <th>0</th>\n",
       "      <td>Jason Miller</td>\n",
       "      <td>31</td>\n",
       "      <td>125000</td>\n",
       "      <td>0</td>\n",
       "      <td>1</td>\n",
       "      <td>1</td>\n",
       "      <td>0</td>\n",
       "      <td>1</td>\n",
       "      <td>0</td>\n",
       "      <td>0</td>\n",
       "      <td>0</td>\n",
       "    </tr>\n",
       "    <tr>\n",
       "      <th>1</th>\n",
       "      <td>Molly Jacobson</td>\n",
       "      <td>25</td>\n",
       "      <td>94000</td>\n",
       "      <td>0</td>\n",
       "      <td>1</td>\n",
       "      <td>0</td>\n",
       "      <td>0</td>\n",
       "      <td>1</td>\n",
       "      <td>0</td>\n",
       "      <td>1</td>\n",
       "      <td>1</td>\n",
       "    </tr>\n",
       "    <tr>\n",
       "      <th>2</th>\n",
       "      <td>Tina Milner</td>\n",
       "      <td>32</td>\n",
       "      <td>57000</td>\n",
       "      <td>0</td>\n",
       "      <td>1</td>\n",
       "      <td>1</td>\n",
       "      <td>0</td>\n",
       "      <td>0</td>\n",
       "      <td>0</td>\n",
       "      <td>0</td>\n",
       "      <td>1</td>\n",
       "    </tr>\n",
       "    <tr>\n",
       "      <th>3</th>\n",
       "      <td>Jake</td>\n",
       "      <td>29</td>\n",
       "      <td>62100</td>\n",
       "      <td>0</td>\n",
       "      <td>0</td>\n",
       "      <td>0</td>\n",
       "      <td>1</td>\n",
       "      <td>1</td>\n",
       "      <td>1</td>\n",
       "      <td>0</td>\n",
       "      <td>0</td>\n",
       "    </tr>\n",
       "    <tr>\n",
       "      <th>4</th>\n",
       "      <td>Amy Schumaker</td>\n",
       "      <td>28</td>\n",
       "      <td>70001</td>\n",
       "      <td>1</td>\n",
       "      <td>0</td>\n",
       "      <td>1</td>\n",
       "      <td>0</td>\n",
       "      <td>1</td>\n",
       "      <td>0</td>\n",
       "      <td>1</td>\n",
       "      <td>0</td>\n",
       "    </tr>\n",
       "  </tbody>\n",
       "</table>\n",
       "</div>"
      ],
      "text/plain": [
       "             Name  Age  Salary  Angular.js  C  C++  Jason  Java  Node.js  \\\n",
       "0    Jason Miller   31  125000           0  1    1      0     1        0   \n",
       "1  Molly Jacobson   25   94000           0  1    0      0     1        0   \n",
       "2     Tina Milner   32   57000           0  1    1      0     0        0   \n",
       "3            Jake   29   62100           0  0    0      1     1        1   \n",
       "4   Amy Schumaker   28   70001           1  0    1      0     1        0   \n",
       "\n",
       "   Python  Spring  \n",
       "0       0       0  \n",
       "1       1       1  \n",
       "2       0       1  \n",
       "3       0       0  \n",
       "4       1       0  "
      ]
     },
     "execution_count": 9,
     "metadata": {},
     "output_type": "execute_result"
    }
   ],
   "source": [
    "result"
   ]
  },
  {
   "cell_type": "code",
   "execution_count": null,
   "metadata": {
    "collapsed": true
   },
   "outputs": [],
   "source": []
  },
  {
   "cell_type": "code",
   "execution_count": null,
   "metadata": {
    "collapsed": true
   },
   "outputs": [],
   "source": []
  },
  {
   "cell_type": "code",
   "execution_count": null,
   "metadata": {
    "collapsed": true
   },
   "outputs": [],
   "source": []
  }
 ],
 "metadata": {
  "kernelspec": {
   "display_name": "Python 3",
   "language": "python",
   "name": "python3"
  },
  "language_info": {
   "codemirror_mode": {
    "name": "ipython",
    "version": 3
   },
   "file_extension": ".py",
   "mimetype": "text/x-python",
   "name": "python",
   "nbconvert_exporter": "python",
   "pygments_lexer": "ipython3",
   "version": "3.6.1"
  }
 },
 "nbformat": 4,
 "nbformat_minor": 2
}
