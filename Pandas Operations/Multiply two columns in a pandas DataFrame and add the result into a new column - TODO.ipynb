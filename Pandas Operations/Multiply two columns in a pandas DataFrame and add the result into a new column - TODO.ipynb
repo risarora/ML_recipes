{
 "cells": [
  {
   "cell_type": "code",
   "execution_count": null,
   "metadata": {
    "collapsed": true
   },
   "outputs": [],
   "source": [
    "values = df.Prices * df.Amount\n",
    "\n",
    "df['Values'] = values.where(df.Action == 'Sell', other=-values)\n",
    "\n",
    "In [39]: df\n",
    "Out[39]: \n"
   ]
  },
  {
   "cell_type": "raw",
   "metadata": {},
   "source": [
    "'''\n",
    "   Prices  Amount Action  Values\n",
    "0       3      57   Sell     171\n",
    "1      89      42   Sell    3738\n",
    "2      45      70    Buy   -3150\n",
    "3       6      43   Sell     258\n",
    "4      60      47   Sell    2820\n",
    "5      19      16    Buy    -304\n",
    "6      56      89   Sell    4984\n",
    "7       3      28    Buy     -84\n",
    "8      56      69   Sell    3864\n",
    "9      90      49    Buy   -4410'''"
   ]
  },
  {
   "cell_type": "code",
   "execution_count": null,
   "metadata": {
    "collapsed": true
   },
   "outputs": [],
   "source": [
    "order_df['Value'] = order_df.apply(lambda row: (row['Prices']*row['Amount']\n",
    "                                               if row['Action']=='Sell'\n",
    "                                               else -row['Prices']*row['Amount']),\n",
    "                                   axis=1)"
   ]
  }
 ],
 "metadata": {
  "kernelspec": {
   "display_name": "Python 3",
   "language": "python",
   "name": "python3"
  },
  "language_info": {
   "codemirror_mode": {
    "name": "ipython",
    "version": 3
   },
   "file_extension": ".py",
   "mimetype": "text/x-python",
   "name": "python",
   "nbconvert_exporter": "python",
   "pygments_lexer": "ipython3",
   "version": "3.6.1"
  }
 },
 "nbformat": 4,
 "nbformat_minor": 2
}
