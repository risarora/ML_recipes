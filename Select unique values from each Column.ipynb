{
 "cells": [
  {
   "cell_type": "code",
   "execution_count": 3,
   "metadata": {
    "collapsed": true
   },
   "outputs": [],
   "source": [
    "import pandas as pd\n",
    "import numpy as np"
   ]
  },
  {
   "cell_type": "code",
   "execution_count": 4,
   "metadata": {
    "collapsed": true
   },
   "outputs": [],
   "source": [
    "# Create a data Frame\n",
    "df = pd.DataFrame({ 'a': [1, 2, 3] * 2,\n",
    "                    'b': [True, False] *3 ,\n",
    "                    'c': [1.0, 2.0, 4.0] * 2,\n",
    "                    'd': ['A','X','Z','B','Z','A'],\n",
    "                    'e': ['A','X','Z','B','Z','A'],\n",
    "                    'f': ['A','X'] * 3 })\n"
   ]
  },
  {
   "cell_type": "code",
   "execution_count": 5,
   "metadata": {},
   "outputs": [
    {
     "data": {
      "text/plain": [
       "a      int64\n",
       "b       bool\n",
       "c    float64\n",
       "d     object\n",
       "e     object\n",
       "f     object\n",
       "dtype: object"
      ]
     },
     "execution_count": 5,
     "metadata": {},
     "output_type": "execute_result"
    }
   ],
   "source": [
    "df.dtypes"
   ]
  },
  {
   "cell_type": "code",
   "execution_count": 6,
   "metadata": {},
   "outputs": [
    {
     "name": "stdout",
     "output_type": "stream",
     "text": [
      "All column Names Index(['a', 'b', 'c', 'd', 'e', 'f'], dtype='object')\n",
      "Numeric Columns Index(['a', 'b', 'c'], dtype='object')\n",
      "Object Type Columns  Index(['d', 'e', 'f'], dtype='object')\n",
      "NOT Object Type Columns  Index(['a', 'b', 'c'], dtype='object')\n"
     ]
    }
   ],
   "source": [
    "print(\"All column Names\",df.columns)\n",
    "print(\"Numeric Columns\",df._get_numeric_data().columns)\n",
    "print(\"Object Type Columns \",df.select_dtypes(include=['object']).columns)\n",
    "print(\"NOT Object Type Columns \",df.select_dtypes(exclude=['object']).columns)"
   ]
  },
  {
   "cell_type": "code",
   "execution_count": null,
   "metadata": {
    "collapsed": true
   },
   "outputs": [],
   "source": []
  },
  {
   "cell_type": "code",
   "execution_count": 7,
   "metadata": {},
   "outputs": [
    {
     "name": "stdout",
     "output_type": "stream",
     "text": [
      "Numerics Columns  Index(['a', 'b', 'c'], dtype='object')\n"
     ]
    }
   ],
   "source": [
    "numerics = df.select_dtypes(exclude=['object']).columns\n",
    "print(\"Numerics Columns \",numerics)\n"
   ]
  },
  {
   "cell_type": "code",
   "execution_count": 8,
   "metadata": {},
   "outputs": [
    {
     "name": "stdout",
     "output_type": "stream",
     "text": [
      "Non Numeric Columns  Index(['d', 'e', 'f'], dtype='object')\n"
     ]
    }
   ],
   "source": [
    "non_numeric = df.select_dtypes(include=['object']).columns\n",
    "print(\"Non Numeric Columns \",non_numeric)"
   ]
  },
  {
   "cell_type": "code",
   "execution_count": 9,
   "metadata": {},
   "outputs": [
    {
     "name": "stdout",
     "output_type": "stream",
     "text": [
      "d ['A' 'X' 'Z' 'B']\n",
      "e ['A' 'X' 'Z' 'B']\n",
      "f ['A' 'X']\n"
     ]
    }
   ],
   "source": [
    "# Print unique values in each column\n",
    "for x in range(pd.Series(non_numeric).shape[0]):\n",
    "    print (non_numeric[x],df[non_numeric[x]].unique())\n"
   ]
  },
  {
   "cell_type": "code",
   "execution_count": null,
   "metadata": {
    "collapsed": true
   },
   "outputs": [],
   "source": []
  }
 ],
 "metadata": {
  "kernelspec": {
   "display_name": "Python 3",
   "language": "python",
   "name": "python3"
  },
  "language_info": {
   "codemirror_mode": {
    "name": "ipython",
    "version": 3
   },
   "file_extension": ".py",
   "mimetype": "text/x-python",
   "name": "python",
   "nbconvert_exporter": "python",
   "pygments_lexer": "ipython3",
   "version": "3.6.1"
  }
 },
 "nbformat": 4,
 "nbformat_minor": 2
}
