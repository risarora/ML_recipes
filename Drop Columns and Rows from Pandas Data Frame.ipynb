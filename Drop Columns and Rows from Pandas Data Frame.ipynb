{
 "cells": [
  {
   "cell_type": "code",
   "execution_count": 1,
   "metadata": {
    "collapsed": true
   },
   "outputs": [],
   "source": [
    "# Import the libraries\n",
    "import pandas as pd\n",
    "import numpy as np"
   ]
  },
  {
   "cell_type": "markdown",
   "metadata": {},
   "source": [
    "**Create a data Frame**"
   ]
  },
  {
   "cell_type": "code",
   "execution_count": 3,
   "metadata": {},
   "outputs": [
    {
     "data": {
      "text/html": [
       "<div>\n",
       "<style>\n",
       "    .dataframe thead tr:only-child th {\n",
       "        text-align: right;\n",
       "    }\n",
       "\n",
       "    .dataframe thead th {\n",
       "        text-align: left;\n",
       "    }\n",
       "\n",
       "    .dataframe tbody tr th {\n",
       "        vertical-align: top;\n",
       "    }\n",
       "</style>\n",
       "<table border=\"1\" class=\"dataframe\">\n",
       "  <thead>\n",
       "    <tr style=\"text-align: right;\">\n",
       "      <th></th>\n",
       "      <th>age</th>\n",
       "      <th>favorite_color</th>\n",
       "      <th>grade</th>\n",
       "      <th>name</th>\n",
       "    </tr>\n",
       "  </thead>\n",
       "  <tbody>\n",
       "    <tr>\n",
       "      <th>Rishi Arora</th>\n",
       "      <td>30</td>\n",
       "      <td>blue</td>\n",
       "      <td>88</td>\n",
       "      <td>Rishi Arora</td>\n",
       "    </tr>\n",
       "    <tr>\n",
       "      <th>Rachit  Mutreja</th>\n",
       "      <td>29</td>\n",
       "      <td>red</td>\n",
       "      <td>92</td>\n",
       "      <td>Rachit  Mutreja</td>\n",
       "    </tr>\n",
       "    <tr>\n",
       "      <th>Ajay Bandi</th>\n",
       "      <td>32</td>\n",
       "      <td>yellow</td>\n",
       "      <td>95</td>\n",
       "      <td>Ajay Bandi</td>\n",
       "    </tr>\n",
       "    <tr>\n",
       "      <th>Amar Sachdeva</th>\n",
       "      <td>33</td>\n",
       "      <td>green</td>\n",
       "      <td>70</td>\n",
       "      <td>Amar Sachdeva</td>\n",
       "    </tr>\n",
       "  </tbody>\n",
       "</table>\n",
       "</div>"
      ],
      "text/plain": [
       "                 age favorite_color  grade             name\n",
       "Rishi Arora       30           blue     88      Rishi Arora\n",
       "Rachit  Mutreja   29            red     92  Rachit  Mutreja\n",
       "Ajay Bandi        32         yellow     95       Ajay Bandi\n",
       "Amar Sachdeva     33          green     70    Amar Sachdeva"
      ]
     },
     "execution_count": 3,
     "metadata": {},
     "output_type": "execute_result"
    }
   ],
   "source": [
    "raw_data = {'name': ['Rishi Arora', 'Rachit  Mutreja', 'Ajay Bandi', 'Amar Sachdeva'],\n",
    "        'age': [30, 29, 32, 33],\n",
    "        'favorite_color': ['blue', 'red', 'yellow', \"green\"],\n",
    "        'grade': [88, 92, 95, 70]}\n",
    "df = pd.DataFrame(raw_data, index = ['Rishi Arora', 'Rachit  Mutreja', 'Ajay Bandi', 'Amar Sachdeva'])\n",
    "df"
   ]
  },
  {
   "cell_type": "markdown",
   "metadata": {},
   "source": [
    "**drop a row by name**\n"
   ]
  },
  {
   "cell_type": "code",
   "execution_count": 5,
   "metadata": {},
   "outputs": [
    {
     "data": {
      "text/html": [
       "<div>\n",
       "<style>\n",
       "    .dataframe thead tr:only-child th {\n",
       "        text-align: right;\n",
       "    }\n",
       "\n",
       "    .dataframe thead th {\n",
       "        text-align: left;\n",
       "    }\n",
       "\n",
       "    .dataframe tbody tr th {\n",
       "        vertical-align: top;\n",
       "    }\n",
       "</style>\n",
       "<table border=\"1\" class=\"dataframe\">\n",
       "  <thead>\n",
       "    <tr style=\"text-align: right;\">\n",
       "      <th></th>\n",
       "      <th>age</th>\n",
       "      <th>favorite_color</th>\n",
       "      <th>grade</th>\n",
       "      <th>name</th>\n",
       "    </tr>\n",
       "  </thead>\n",
       "  <tbody>\n",
       "    <tr>\n",
       "      <th>Rachit  Mutreja</th>\n",
       "      <td>29</td>\n",
       "      <td>red</td>\n",
       "      <td>92</td>\n",
       "      <td>Rachit  Mutreja</td>\n",
       "    </tr>\n",
       "    <tr>\n",
       "      <th>Amar Sachdeva</th>\n",
       "      <td>33</td>\n",
       "      <td>green</td>\n",
       "      <td>70</td>\n",
       "      <td>Amar Sachdeva</td>\n",
       "    </tr>\n",
       "  </tbody>\n",
       "</table>\n",
       "</div>"
      ],
      "text/plain": [
       "                 age favorite_color  grade             name\n",
       "Rachit  Mutreja   29            red     92  Rachit  Mutreja\n",
       "Amar Sachdeva     33          green     70    Amar Sachdeva"
      ]
     },
     "execution_count": 5,
     "metadata": {},
     "output_type": "execute_result"
    }
   ],
   "source": [
    "df.drop(['Rishi Arora', 'Ajay Bandi'])"
   ]
  },
  {
   "cell_type": "markdown",
   "metadata": {},
   "source": [
    "**drop a row by number**"
   ]
  },
  {
   "cell_type": "code",
   "execution_count": 6,
   "metadata": {},
   "outputs": [
    {
     "data": {
      "text/html": [
       "<div>\n",
       "<style>\n",
       "    .dataframe thead tr:only-child th {\n",
       "        text-align: right;\n",
       "    }\n",
       "\n",
       "    .dataframe thead th {\n",
       "        text-align: left;\n",
       "    }\n",
       "\n",
       "    .dataframe tbody tr th {\n",
       "        vertical-align: top;\n",
       "    }\n",
       "</style>\n",
       "<table border=\"1\" class=\"dataframe\">\n",
       "  <thead>\n",
       "    <tr style=\"text-align: right;\">\n",
       "      <th></th>\n",
       "      <th>age</th>\n",
       "      <th>favorite_color</th>\n",
       "      <th>grade</th>\n",
       "      <th>name</th>\n",
       "    </tr>\n",
       "  </thead>\n",
       "  <tbody>\n",
       "    <tr>\n",
       "      <th>Rachit  Mutreja</th>\n",
       "      <td>29</td>\n",
       "      <td>red</td>\n",
       "      <td>92</td>\n",
       "      <td>Rachit  Mutreja</td>\n",
       "    </tr>\n",
       "    <tr>\n",
       "      <th>Ajay Bandi</th>\n",
       "      <td>32</td>\n",
       "      <td>yellow</td>\n",
       "      <td>95</td>\n",
       "      <td>Ajay Bandi</td>\n",
       "    </tr>\n",
       "    <tr>\n",
       "      <th>Amar Sachdeva</th>\n",
       "      <td>33</td>\n",
       "      <td>green</td>\n",
       "      <td>70</td>\n",
       "      <td>Amar Sachdeva</td>\n",
       "    </tr>\n",
       "  </tbody>\n",
       "</table>\n",
       "</div>"
      ],
      "text/plain": [
       "                 age favorite_color  grade             name\n",
       "Rachit  Mutreja   29            red     92  Rachit  Mutreja\n",
       "Ajay Bandi        32         yellow     95       Ajay Bandi\n",
       "Amar Sachdeva     33          green     70    Amar Sachdeva"
      ]
     },
     "execution_count": 6,
     "metadata": {},
     "output_type": "execute_result"
    }
   ],
   "source": [
    "df.drop(df.index[0], inplace=True)\n",
    "df"
   ]
  },
  {
   "cell_type": "markdown",
   "metadata": {},
   "source": [
    "**drop first 2 rows (put ':' to left of # to drop last X rows)**"
   ]
  },
  {
   "cell_type": "code",
   "execution_count": 8,
   "metadata": {},
   "outputs": [
    {
     "data": {
      "text/html": [
       "<div>\n",
       "<style>\n",
       "    .dataframe thead tr:only-child th {\n",
       "        text-align: right;\n",
       "    }\n",
       "\n",
       "    .dataframe thead th {\n",
       "        text-align: left;\n",
       "    }\n",
       "\n",
       "    .dataframe tbody tr th {\n",
       "        vertical-align: top;\n",
       "    }\n",
       "</style>\n",
       "<table border=\"1\" class=\"dataframe\">\n",
       "  <thead>\n",
       "    <tr style=\"text-align: right;\">\n",
       "      <th></th>\n",
       "      <th>age</th>\n",
       "      <th>favorite_color</th>\n",
       "      <th>grade</th>\n",
       "      <th>name</th>\n",
       "    </tr>\n",
       "  </thead>\n",
       "  <tbody>\n",
       "    <tr>\n",
       "      <th>Amar Sachdeva</th>\n",
       "      <td>33</td>\n",
       "      <td>green</td>\n",
       "      <td>70</td>\n",
       "      <td>Amar Sachdeva</td>\n",
       "    </tr>\n",
       "  </tbody>\n",
       "</table>\n",
       "</div>"
      ],
      "text/plain": [
       "               age favorite_color  grade           name\n",
       "Amar Sachdeva   33          green     70  Amar Sachdeva"
      ]
     },
     "execution_count": 8,
     "metadata": {},
     "output_type": "execute_result"
    }
   ],
   "source": [
    "df.drop(df.index[:2], inplace=True)\n",
    "df"
   ]
  },
  {
   "cell_type": "markdown",
   "metadata": {},
   "source": [
    "**dropping column by name**"
   ]
  },
  {
   "cell_type": "code",
   "execution_count": 9,
   "metadata": {},
   "outputs": [
    {
     "data": {
      "text/html": [
       "<div>\n",
       "<style>\n",
       "    .dataframe thead tr:only-child th {\n",
       "        text-align: right;\n",
       "    }\n",
       "\n",
       "    .dataframe thead th {\n",
       "        text-align: left;\n",
       "    }\n",
       "\n",
       "    .dataframe tbody tr th {\n",
       "        vertical-align: top;\n",
       "    }\n",
       "</style>\n",
       "<table border=\"1\" class=\"dataframe\">\n",
       "  <thead>\n",
       "    <tr style=\"text-align: right;\">\n",
       "      <th></th>\n",
       "      <th>favorite_color</th>\n",
       "      <th>grade</th>\n",
       "      <th>name</th>\n",
       "    </tr>\n",
       "  </thead>\n",
       "  <tbody>\n",
       "    <tr>\n",
       "      <th>Amar Sachdeva</th>\n",
       "      <td>green</td>\n",
       "      <td>70</td>\n",
       "      <td>Amar Sachdeva</td>\n",
       "    </tr>\n",
       "  </tbody>\n",
       "</table>\n",
       "</div>"
      ],
      "text/plain": [
       "              favorite_color  grade           name\n",
       "Amar Sachdeva          green     70  Amar Sachdeva"
      ]
     },
     "execution_count": 9,
     "metadata": {},
     "output_type": "execute_result"
    }
   ],
   "source": [
    "df.drop(['age'], axis = 1, inplace = True)\n",
    "df"
   ]
  }
 ],
 "metadata": {
  "kernelspec": {
   "display_name": "Python 3",
   "language": "python",
   "name": "python3"
  },
  "language_info": {
   "codemirror_mode": {
    "name": "ipython",
    "version": 3
   },
   "file_extension": ".py",
   "mimetype": "text/x-python",
   "name": "python",
   "nbconvert_exporter": "python",
   "pygments_lexer": "ipython3",
   "version": "3.6.1"
  }
 },
 "nbformat": 4,
 "nbformat_minor": 2
}
